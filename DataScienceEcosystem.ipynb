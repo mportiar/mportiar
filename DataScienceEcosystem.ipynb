{
  "nbformat": 4,
  "nbformat_minor": 0,
  "metadata": {
    "colab": {
      "provenance": [],
      "authorship_tag": "ABX9TyOMiBzcIhpf7OUS5QPMGmWD",
      "include_colab_link": true
    },
    "kernelspec": {
      "name": "python3",
      "display_name": "Python 3"
    },
    "language_info": {
      "name": "python"
    }
  },
  "cells": [
    {
      "cell_type": "markdown",
      "metadata": {
        "id": "view-in-github",
        "colab_type": "text"
      },
      "source": [
        "<a href=\"https://colab.research.google.com/github/mportiar/mportiar/blob/main/DataScienceEcosystem.ipynb\" target=\"_parent\"><img src=\"https://colab.research.google.com/assets/colab-badge.svg\" alt=\"Open In Colab\"/></a>"
      ]
    },
    {
      "cell_type": "code",
      "execution_count": 2,
      "metadata": {
        "colab": {
          "base_uri": "https://localhost:8080/",
          "height": 723
        },
        "id": "qCGKJz6AnSvG",
        "outputId": "7e0b916f-def4-4b53-8750-3008f656ba75"
      },
      "outputs": [
        {
          "output_type": "display_data",
          "data": {
            "text/plain": [
              "<IPython.core.display.Markdown object>"
            ],
            "text/markdown": "# Data Science Tools and Ecosystem"
          },
          "metadata": {}
        },
        {
          "output_type": "display_data",
          "data": {
            "text/plain": [
              "<IPython.core.display.Markdown object>"
            ],
            "text/markdown": "En este cuaderno, se resumen las herramientas y ecosistemas de ciencia de datos."
          },
          "metadata": {}
        },
        {
          "output_type": "display_data",
          "data": {
            "text/plain": [
              "<IPython.core.display.Markdown object>"
            ],
            "text/markdown": "**Objetivos:**\n- Listar lenguajes populares para Ciencia de Datos.\n- Identificar bibliotecas clave para Ciencia de Datos.\n- Mostrar herramientas útiles para el ecosistema de Ciencia de Datos.\n- Presentar ejemplos de expresiones aritméticas en Python."
          },
          "metadata": {}
        },
        {
          "output_type": "display_data",
          "data": {
            "text/plain": [
              "<IPython.core.display.Markdown object>"
            ],
            "text/markdown": "Algunos de los lenguajes populares que utilizan los científicos de datos son:\n1. Python\n2. R\n3. SQL\n4. Julia"
          },
          "metadata": {}
        },
        {
          "output_type": "display_data",
          "data": {
            "text/plain": [
              "<IPython.core.display.Markdown object>"
            ],
            "text/markdown": "Algunas de las bibliotecas comúnmente utilizadas por los científicos de datos incluyen:\n1. NumPy\n2. Pandas\n3. Matplotlib\n4. Scikit-learn"
          },
          "metadata": {}
        },
        {
          "output_type": "display_data",
          "data": {
            "text/plain": [
              "<IPython.core.display.Markdown object>"
            ],
            "text/markdown": "| Herramientas de Ciencia de Datos |\n|----------------------------------|\n| Jupyter Notebook                |\n| RStudio                         |\n| Apache Zeppelin                 |"
          },
          "metadata": {}
        },
        {
          "output_type": "display_data",
          "data": {
            "text/plain": [
              "<IPython.core.display.Markdown object>"
            ],
            "text/markdown": "### A continuación, se presentan algunos ejemplos de evaluación de expresiones aritméticas en Python."
          },
          "metadata": {}
        },
        {
          "output_type": "stream",
          "name": "stdout",
          "text": [
            "Resultado de (3 * 4) + 5: 17\n",
            "200 minutos equivalen a 3.33 horas.\n"
          ]
        },
        {
          "output_type": "display_data",
          "data": {
            "text/plain": [
              "<IPython.core.display.Markdown object>"
            ],
            "text/markdown": "## Autor\nMARRIO PORTILLA"
          },
          "metadata": {}
        }
      ],
      "source": [
        "# Ejercicio 2: Crear un título del cuaderno\n",
        "from IPython.display import Markdown, display\n",
        "\n",
        "# Celda de Markdown: Título\n",
        "display(Markdown(\"# Data Science Tools and Ecosystem\"))\n",
        "\n",
        "# Ejercicio 3: Introducción del cuaderno\n",
        "# Celda de Markdown: Introducción\n",
        "display(Markdown(\"En este cuaderno, se resumen las herramientas y ecosistemas de ciencia de datos.\"))\n",
        "\n",
        "# Ejercicio 10: Objetivos del cuaderno\n",
        "# Celda de Markdown: Objetivos\n",
        "display(Markdown(\"**Objetivos:**\\n\"\n",
        "                 \"- Listar lenguajes populares para Ciencia de Datos.\\n\"\n",
        "                 \"- Identificar bibliotecas clave para Ciencia de Datos.\\n\"\n",
        "                 \"- Mostrar herramientas útiles para el ecosistema de Ciencia de Datos.\\n\"\n",
        "                 \"- Presentar ejemplos de expresiones aritméticas en Python.\"))\n",
        "\n",
        "# Ejercicio 4: Listar lenguajes de ciencia de datos\n",
        "# Celda de Markdown: Lenguajes populares\n",
        "display(Markdown(\"Algunos de los lenguajes populares que utilizan los científicos de datos son:\\n\"\n",
        "                 \"1. Python\\n2. R\\n3. SQL\\n4. Julia\"))\n",
        "\n",
        "# Ejercicio 5: Listar bibliotecas de ciencia de datos\n",
        "# Celda de Markdown: Bibliotecas populares\n",
        "display(Markdown(\"Algunas de las bibliotecas comúnmente utilizadas por los científicos de datos incluyen:\\n\"\n",
        "                 \"1. NumPy\\n2. Pandas\\n3. Matplotlib\\n4. Scikit-learn\"))\n",
        "\n",
        "# Ejercicio 6: Tabla de herramientas de ciencia de datos\n",
        "# Celda de Markdown: Tabla de herramientas\n",
        "display(Markdown(\"| Herramientas de Ciencia de Datos |\\n\"\n",
        "                 \"|----------------------------------|\\n\"\n",
        "                 \"| Jupyter Notebook                |\\n\"\n",
        "                 \"| RStudio                         |\\n\"\n",
        "                 \"| Apache Zeppelin                 |\"))\n",
        "\n",
        "# Ejercicio 7: Introducción a expresiones aritméticas\n",
        "# Celda de Markdown: Introducción a aritmética\n",
        "display(Markdown(\"### A continuación, se presentan algunos ejemplos de evaluación de expresiones aritméticas en Python.\"))\n",
        "\n",
        "# Ejercicio 8: Multiplicar y sumar números\n",
        "# Celda de Código: Expresión aritmética\n",
        "# Comentario explicativo\n",
        "# Esta es una expresión aritmética simple para multiplicar y luego sumar enteros.\n",
        "resultado_1 = (3 * 4) + 5\n",
        "print(f\"Resultado de (3 * 4) + 5: {resultado_1}\")\n",
        "\n",
        "# Ejercicio 9: Convertir minutos a horas\n",
        "# Celda de Código: Conversión de minutos a horas\n",
        "# Comentario explicativo\n",
        "# Esto convertirá 200 minutos a horas dividiendo por 60.\n",
        "minutos = 200\n",
        "horas = minutos / 60\n",
        "print(f\"{minutos} minutos equivalen a {horas:.2f} horas.\")\n",
        "\n",
        "# Ejercicio 11: Información del autor\n",
        "# Celda de Markdown: Autor\n",
        "display(Markdown(\"## Autor\\nMARRIO PORTILLA\"))\n"
      ]
    }
  ]
}